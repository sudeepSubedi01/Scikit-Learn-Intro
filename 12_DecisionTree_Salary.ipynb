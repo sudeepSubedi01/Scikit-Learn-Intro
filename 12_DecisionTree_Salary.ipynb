{
 "cells": [
  {
   "cell_type": "code",
   "execution_count": 1,
   "metadata": {},
   "outputs": [],
   "source": [
    "import pandas as pd\n",
    "from sklearn.preprocessing import LabelEncoder\n",
    "from sklearn import tree"
   ]
  },
  {
   "cell_type": "code",
   "execution_count": 2,
   "metadata": {},
   "outputs": [
    {
     "name": "stdout",
     "output_type": "stream",
     "text": [
      "  company                  job     degree  salary_more_than_100k\n",
      "0  google      sales executive  bachelors                      0\n",
      "1  google      sales executive    masters                      0\n",
      "2  google     business manager  bachelors                      1\n",
      "3  google     business manager    masters                      1\n",
      "4  google  computer programmer  bachelors                      0\n"
     ]
    }
   ],
   "source": [
    "df = pd.read_csv('salary.csv')\n",
    "print(df.head())"
   ]
  },
  {
   "cell_type": "code",
   "execution_count": 3,
   "metadata": {},
   "outputs": [],
   "source": [
    "inputs = df.drop('salary_more_than_100k',axis='columns')\n",
    "target = df['salary_more_than_100k']\n",
    "# print(inputs.head())\n",
    "# print(target.head())"
   ]
  },
  {
   "cell_type": "code",
   "execution_count": 4,
   "metadata": {},
   "outputs": [
    {
     "name": "stdout",
     "output_type": "stream",
     "text": [
      "       company                  job     degree  company_n  job_n  degree_n\n",
      "0       google      sales executive  bachelors          2      2         0\n",
      "1       google      sales executive    masters          2      2         1\n",
      "2       google     business manager  bachelors          2      0         0\n",
      "3       google     business manager    masters          2      0         1\n",
      "4       google  computer programmer  bachelors          2      1         0\n",
      "5       google  computer programmer    masters          2      1         1\n",
      "6   abc pharma      sales executive    masters          0      2         1\n",
      "7   abc pharma  computer programmer  bachelors          0      1         0\n",
      "8   abc pharma     business manager  bachelors          0      0         0\n",
      "9   abc pharma     business manager    masters          0      0         1\n",
      "10    facebook      sales executive  bachelors          1      2         0\n",
      "11    facebook      sales executive    masters          1      2         1\n",
      "12    facebook     business manager  bachelors          1      0         0\n",
      "13    facebook     business manager    masters          1      0         1\n",
      "14    facebook  computer programmer  bachelors          1      1         0\n",
      "15    facebook  computer programmer    masters          1      1         1\n"
     ]
    }
   ],
   "source": [
    "le_company = LabelEncoder()\n",
    "le_job = LabelEncoder()\n",
    "le_degree = LabelEncoder()\n",
    "inputs['company_n'] = le_company.fit_transform(inputs['company'])\n",
    "inputs['job_n'] = le_company.fit_transform(inputs['job'])\n",
    "inputs['degree_n'] = le_company.fit_transform(inputs['degree'])\n",
    "# print(inputs['company_n'].head())\n",
    "# print(inputs['job_n'].head())\n",
    "# print(inputs['degree_n'].head())\n",
    "print(inputs)\n",
    "inputs_n = inputs.drop(['company','job','degree'],axis=1)\n",
    "# print(inputs_n)"
   ]
  },
  {
   "cell_type": "code",
   "execution_count": 5,
   "metadata": {},
   "outputs": [
    {
     "name": "stdout",
     "output_type": "stream",
     "text": [
      "[1]\n"
     ]
    },
    {
     "name": "stderr",
     "output_type": "stream",
     "text": [
      "C:\\Users\\Acer1\\AppData\\Roaming\\Python\\Python312\\site-packages\\sklearn\\base.py:493: UserWarning: X does not have valid feature names, but DecisionTreeClassifier was fitted with feature names\n",
      "  warnings.warn(\n"
     ]
    }
   ],
   "source": [
    "model = tree.DecisionTreeClassifier()\n",
    "model.fit(inputs_n,target)\n",
    "prediction = model.predict([[0,0,1]])\n",
    "print(prediction)"
   ]
  }
 ],
 "metadata": {
  "kernelspec": {
   "display_name": "Python 3",
   "language": "python",
   "name": "python3"
  },
  "language_info": {
   "codemirror_mode": {
    "name": "ipython",
    "version": 3
   },
   "file_extension": ".py",
   "mimetype": "text/x-python",
   "name": "python",
   "nbconvert_exporter": "python",
   "pygments_lexer": "ipython3",
   "version": "3.12.2"
  }
 },
 "nbformat": 4,
 "nbformat_minor": 2
}
