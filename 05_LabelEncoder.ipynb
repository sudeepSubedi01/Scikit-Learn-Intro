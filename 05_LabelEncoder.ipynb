{
 "cells": [
  {
   "cell_type": "code",
   "execution_count": 1,
   "metadata": {},
   "outputs": [],
   "source": [
    "from sklearn.preprocessing import LabelEncoder"
   ]
  },
  {
   "cell_type": "code",
   "execution_count": 7,
   "metadata": {},
   "outputs": [
    {
     "name": "stdout",
     "output_type": "stream",
     "text": [
      "[0 1 2 1 0 2 3 4]\n",
      "['cat' 'dog' 'fish' 'dog' 'cat' 'fish' 'monkey' 'tiger']\n"
     ]
    }
   ],
   "source": [
    "labels = ['cat', 'dog', 'fish', 'dog', 'cat', 'fish','monkey','tiger']\n",
    "le = LabelEncoder()\n",
    "# le.fit(labels)\n",
    "# le_encoded = le.transform(labels)\n",
    "le_encoded = le.fit_transform(labels)\n",
    "print(le_encoded)\n",
    "le_original = le.inverse_transform(le_encoded)\n",
    "print(le_original)"
   ]
  }
 ],
 "metadata": {
  "kernelspec": {
   "display_name": "Python 3",
   "language": "python",
   "name": "python3"
  },
  "language_info": {
   "codemirror_mode": {
    "name": "ipython",
    "version": 3
   },
   "file_extension": ".py",
   "mimetype": "text/x-python",
   "name": "python",
   "nbconvert_exporter": "python",
   "pygments_lexer": "ipython3",
   "version": "3.12.2"
  }
 },
 "nbformat": 4,
 "nbformat_minor": 2
}
