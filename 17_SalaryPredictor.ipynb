{
 "cells": [
  {
   "cell_type": "code",
   "execution_count": 153,
   "metadata": {},
   "outputs": [],
   "source": [
    "import pandas as pd\n",
    "from sklearn.linear_model import LinearRegression\n",
    "from sklearn.metrics import mean_squared_error\n",
    "from sklearn.model_selection import train_test_split"
   ]
  },
  {
   "cell_type": "code",
   "execution_count": 154,
   "metadata": {},
   "outputs": [
    {
     "name": "stdout",
     "output_type": "stream",
     "text": [
      "    YearsExperience\n",
      "22              7.9\n",
      "2               1.5\n",
      "27              9.6\n",
      "26              9.5\n",
      "19              6.0\n",
      "0               1.1\n",
      "33             12.9\n",
      "13              4.1\n",
      "24              8.7\n",
      "15              4.9\n",
      "28             10.3\n"
     ]
    }
   ],
   "source": [
    "data = pd.read_csv('salary1.csv')\n",
    "X = data[['YearsExperience']]\n",
    "y = data['Salary']\n",
    "# x_train,x_test= X[:20],X[20:]\n",
    "# y_train,y_test = y[:20],y[20:]\n",
    "x_train,x_test,y_train,y_test = train_test_split(X,y,test_size=0.3)\n",
    "# print(y_train)\n",
    "print(x_test)"
   ]
  },
  {
   "cell_type": "code",
   "execution_count": 155,
   "metadata": {},
   "outputs": [
    {
     "name": "stdout",
     "output_type": "stream",
     "text": [
      "Predictions:  [ 97180.39934342  42269.02320326 111766.23363065 110908.24337846\n",
      "  80878.58455181  38837.0621945  140079.91195291  64576.7697602\n",
      " 104044.32136094  71440.69177772 117772.16539598]\n",
      "Actual:  22    101302\n",
      "2      37731\n",
      "27    112635\n",
      "26    116969\n",
      "19     93940\n",
      "0      39343\n",
      "33    135675\n",
      "13     57081\n",
      "24    109431\n",
      "15     67938\n",
      "28    122391\n",
      "Name: Salary, dtype: int64\n",
      "MSE:  34921265.64813904\n"
     ]
    }
   ],
   "source": [
    "model=LinearRegression()\n",
    "model.fit(x_train,y_train)\n",
    "predictions = model.predict(x_test)\n",
    "mse = mean_squared_error(y_test,predictions)\n",
    "print('Predictions: ',predictions)\n",
    "print('Actual: ', y_test)\n",
    "print('MSE: ', mse)"
   ]
  }
 ],
 "metadata": {
  "kernelspec": {
   "display_name": "Python 3",
   "language": "python",
   "name": "python3"
  },
  "language_info": {
   "codemirror_mode": {
    "name": "ipython",
    "version": 3
   },
   "file_extension": ".py",
   "mimetype": "text/x-python",
   "name": "python",
   "nbconvert_exporter": "python",
   "pygments_lexer": "ipython3",
   "version": "3.12.2"
  }
 },
 "nbformat": 4,
 "nbformat_minor": 2
}
