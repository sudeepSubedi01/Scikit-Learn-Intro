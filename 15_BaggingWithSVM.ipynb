{
 "cells": [
  {
   "cell_type": "code",
   "execution_count": 57,
   "metadata": {},
   "outputs": [],
   "source": [
    "import pandas as pd\n",
    "from sklearn.datasets import load_iris\n",
    "from sklearn.model_selection import train_test_split\n",
    "from sklearn.svm import SVC\n",
    "from sklearn.ensemble import BaggingClassifier\n",
    "from sklearn.metrics import accuracy_score"
   ]
  },
  {
   "cell_type": "code",
   "execution_count": 58,
   "metadata": {},
   "outputs": [],
   "source": [
    "iris = load_iris()\n",
    "X = iris.data\n",
    "y = iris.target\n",
    "# print(X)"
   ]
  },
  {
   "cell_type": "code",
   "execution_count": 59,
   "metadata": {},
   "outputs": [],
   "source": [
    "x_train,x_test,y_train,y_test = train_test_split(X,y,test_size=0.2)"
   ]
  },
  {
   "cell_type": "code",
   "execution_count": 60,
   "metadata": {},
   "outputs": [
    {
     "name": "stdout",
     "output_type": "stream",
     "text": [
      "Predictions:  [2 1 1 1 2 2 0 1 0 1 1 2 2 2 2 2 1 2 2 0 0 2 2 2 1 1 2 1 2 1]\n",
      "Actual:  [2 1 1 1 2 2 0 1 0 1 2 2 2 2 2 2 1 2 2 0 0 2 2 2 1 1 2 1 2 1]\n",
      "Accuracy:  96.66666666666667\n"
     ]
    }
   ],
   "source": [
    "base_clf = SVC()\n",
    "bagging_clf = BaggingClassifier(estimator=base_clf,n_estimators=50)\n",
    "bagging_clf.fit(x_train,y_train)\n",
    "predictions = bagging_clf.predict(x_test)\n",
    "accuracy = accuracy_score(y_test,predictions)\n",
    "print('Predictions: ', predictions)\n",
    "print('Actual: ', y_test)\n",
    "print('Accuracy: ', accuracy*100)"
   ]
  }
 ],
 "metadata": {
  "kernelspec": {
   "display_name": "Python 3",
   "language": "python",
   "name": "python3"
  },
  "language_info": {
   "codemirror_mode": {
    "name": "ipython",
    "version": 3
   },
   "file_extension": ".py",
   "mimetype": "text/x-python",
   "name": "python",
   "nbconvert_exporter": "python",
   "pygments_lexer": "ipython3",
   "version": "3.12.2"
  }
 },
 "nbformat": 4,
 "nbformat_minor": 2
}
