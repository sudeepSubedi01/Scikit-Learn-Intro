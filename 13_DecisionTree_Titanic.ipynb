{
 "cells": [
  {
   "cell_type": "code",
   "execution_count": 88,
   "metadata": {},
   "outputs": [],
   "source": [
    "import pandas as pd\n",
    "from sklearn.preprocessing import LabelEncoder\n",
    "from sklearn import tree\n",
    "from sklearn.model_selection import train_test_split\n",
    "from sklearn.metrics import accuracy_score"
   ]
  },
  {
   "cell_type": "code",
   "execution_count": 89,
   "metadata": {},
   "outputs": [
    {
     "name": "stdout",
     "output_type": "stream",
     "text": [
      "   Survived  Pclass  Sex        Age     Fare\n",
      "0         0       3    1  22.000000   7.2500\n",
      "1         1       1    0  38.000000  71.2833\n",
      "2         1       3    0  26.000000   7.9250\n",
      "3         1       1    0  35.000000  53.1000\n",
      "4         0       3    1  35.000000   8.0500\n",
      "5         0       3    1  29.699118   8.4583\n",
      "6         0       1    1  54.000000  51.8625\n",
      "7         0       3    1   2.000000  21.0750\n",
      "8         1       3    0  27.000000  11.1333\n",
      "9         1       2    0  14.000000  30.0708\n"
     ]
    }
   ],
   "source": [
    "df = pd.read_csv('titanic.csv')\n",
    "df.drop(['PassengerId','Name','SibSp','Parch','Ticket','Cabin','Embarked'], inplace=True, axis=1)\n",
    "le = LabelEncoder()\n",
    "df['Sex'] = le.fit_transform(df['Sex'])   #male = 1 , female = 0\n",
    "# print(df.head(10))\n",
    "df['Age'] = df['Age'].fillna(df['Age'].mean())\n",
    "print(df.head(10))\n",
    "X = df.drop(['Survived'],axis=1)\n",
    "# print(X.head())\n",
    "y = df['Survived']\n",
    "# print(y.head())"
   ]
  },
  {
   "cell_type": "code",
   "execution_count": 90,
   "metadata": {},
   "outputs": [
    {
     "name": "stdout",
     "output_type": "stream",
     "text": [
      "     Pclass  Sex        Age      Fare\n",
      "364       3    1  29.699118   15.5000\n",
      "777       3    0   5.000000   12.4750\n",
      "747       2    0  30.000000   13.0000\n",
      "245       1    1  44.000000   90.0000\n",
      "97        1    1  23.000000   63.3583\n",
      "..      ...  ...        ...       ...\n",
      "306       1    0  29.699118  110.8833\n",
      "428       3    1  29.699118    7.7500\n",
      "470       3    1  29.699118    7.2500\n",
      "621       1    1  42.000000   52.5542\n",
      "164       3    1   1.000000   39.6875\n",
      "\n",
      "[712 rows x 4 columns]\n"
     ]
    }
   ],
   "source": [
    "x_train,x_test,y_train,y_test  = train_test_split(X,y,test_size=0.2)\n",
    "print(x_train)"
   ]
  },
  {
   "cell_type": "code",
   "execution_count": 128,
   "metadata": {},
   "outputs": [
    {
     "name": "stdout",
     "output_type": "stream",
     "text": [
      "Accuracy:  67.59776536312849\n",
      "Predictions:  [0 1 0 1 0 1 1 0 0 1 1 0 0 0 0 0 0 0 0 0 0 0 1 1 0 1 1 1 0 0 0 0 1 0 0 0 0\n",
      " 1 0 1 0 1 0 0 1 1 0 1 0 0 1 0 0 1 1 0 0 0 1 0 0 0 1 0 1 0 1 1 1 0 1 0 1 0\n",
      " 1 0 0 1 0 1 0 0 1 0 0 0 0 0 0 0 0 0 1 0 0 1 0 0 0 1 1 0 0 1 1 1 0 0 1 0 1\n",
      " 0 0 0 0 0 1 1 0 0 0 1 1 0 0 0 0 0 0 0 0 0 0 0 0 0 0 0 1 0 0 0 0 0 0 0 0 1\n",
      " 1 0 0 0 0 0 0 1 0 0 0 0 0 1 0 0 0 0 1 0 0 0 0 0 0 1 1 1 0 1 0]\n",
      "Actual:  [0 0 0 1 0 0 1 0 0 0 1 1 0 0 0 0 1 0 1 0 0 0 1 1 0 1 0 1 0 1 0 0 0 0 1 0 0\n",
      " 1 1 1 0 1 0 1 0 0 0 1 1 0 0 1 0 1 0 0 1 0 1 1 1 0 1 1 1 0 1 1 1 0 1 0 1 1\n",
      " 1 1 1 0 0 0 1 0 0 0 0 1 0 0 1 0 1 0 0 0 0 0 0 0 1 0 1 0 1 0 0 1 1 0 1 0 1\n",
      " 1 1 0 0 0 0 0 0 0 1 0 1 0 1 0 0 0 0 0 1 0 0 0 1 0 1 0 1 0 1 0 0 0 0 1 0 0\n",
      " 1 0 0 0 0 0 0 1 1 0 0 0 0 1 1 0 0 0 0 0 0 0 1 0 1 1 1 1 0 1 0]\n"
     ]
    }
   ],
   "source": [
    "model = tree.DecisionTreeClassifier()\n",
    "model.fit(x_train,y_train)\n",
    "predictions = model.predict(x_test)\n",
    "accuracy = accuracy_score(y_test,predictions)\n",
    "print('Accuracy: ', accuracy * 100)\n",
    "print('Predictions: ',predictions)\n",
    "print('Actual: ', y_test.to_numpy())\n"
   ]
  }
 ],
 "metadata": {
  "kernelspec": {
   "display_name": "Python 3",
   "language": "python",
   "name": "python3"
  },
  "language_info": {
   "codemirror_mode": {
    "name": "ipython",
    "version": 3
   },
   "file_extension": ".py",
   "mimetype": "text/x-python",
   "name": "python",
   "nbconvert_exporter": "python",
   "pygments_lexer": "ipython3",
   "version": "3.12.2"
  }
 },
 "nbformat": 4,
 "nbformat_minor": 2
}
