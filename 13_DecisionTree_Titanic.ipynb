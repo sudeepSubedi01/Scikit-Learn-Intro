{
 "cells": [
  {
   "cell_type": "code",
   "execution_count": 69,
   "metadata": {},
   "outputs": [],
   "source": [
    "import pandas as pd\n",
    "from sklearn.preprocessing import LabelEncoder\n",
    "from sklearn import tree\n",
    "from sklearn.model_selection import train_test_split\n",
    "from sklearn.metrics import accuracy_score"
   ]
  },
  {
   "cell_type": "code",
   "execution_count": 70,
   "metadata": {},
   "outputs": [
    {
     "name": "stdout",
     "output_type": "stream",
     "text": [
      "   Survived  Pclass  Sex        Age     Fare\n",
      "0         0       3    1  22.000000   7.2500\n",
      "1         1       1    0  38.000000  71.2833\n",
      "2         1       3    0  26.000000   7.9250\n",
      "3         1       1    0  35.000000  53.1000\n",
      "4         0       3    1  35.000000   8.0500\n",
      "5         0       3    1  29.699118   8.4583\n",
      "6         0       1    1  54.000000  51.8625\n",
      "7         0       3    1   2.000000  21.0750\n",
      "8         1       3    0  27.000000  11.1333\n",
      "9         1       2    0  14.000000  30.0708\n"
     ]
    }
   ],
   "source": [
    "df = pd.read_csv('titanic.csv')\n",
    "df.drop(['PassengerId','Name','SibSp','Parch','Ticket','Cabin','Embarked'], inplace=True, axis=1)\n",
    "le = LabelEncoder()\n",
    "df['Sex'] = le.fit_transform(df['Sex'])   #male = 1 , female = 0\n",
    "# print(df.head(10))\n",
    "df['Age'] = df['Age'].fillna(df['Age'].mean())\n",
    "print(df.head(10))\n",
    "X = df.drop(['Survived'],axis=1)\n",
    "# print(X.head())\n",
    "y = df['Survived']\n",
    "# print(y.head())"
   ]
  },
  {
   "cell_type": "code",
   "execution_count": 71,
   "metadata": {},
   "outputs": [
    {
     "name": "stdout",
     "output_type": "stream",
     "text": [
      "     Pclass  Sex   Age     Fare\n",
      "210       3    1  24.0   7.0500\n",
      "886       2    1  27.0  13.0000\n",
      "14        3    0  14.0   7.8542\n",
      "227       3    1  20.5   7.2500\n",
      "847       3    1  35.0   7.8958\n",
      "..      ...  ...   ...      ...\n",
      "749       3    1  31.0   7.7500\n",
      "728       2    1  25.0  26.0000\n",
      "836       3    1  21.0   8.6625\n",
      "423       3    0  28.0  14.4000\n",
      "153       3    1  40.5  14.5000\n",
      "\n",
      "[712 rows x 4 columns]\n"
     ]
    }
   ],
   "source": [
    "x_train,x_test,y_train,y_test  = train_test_split(X,y,test_size=0.2)\n",
    "print(x_train)"
   ]
  },
  {
   "cell_type": "code",
   "execution_count": 72,
   "metadata": {},
   "outputs": [
    {
     "name": "stdout",
     "output_type": "stream",
     "text": [
      "Accuracy:  81.00558659217877\n",
      "Predictions:  [0 1 0 0 0 0 0 0 1 0 1 0 1 0 1 0 0 1 0 1 1 0 0 1 1 1 1 0 0 0 0 0 1 0 0 0 1\n",
      " 0 0 0 0 0 1 1 1 1 0 1 1 0 1 0 1 0 0 1 0 0 0 0 1 0 0 0 1 0 0 1 0 0 0 0 1 0\n",
      " 0 0 0 1 0 0 0 1 1 0 0 1 1 0 0 1 0 0 0 0 0 1 0 1 1 1 1 0 0 1 1 0 1 0 0 0 0\n",
      " 1 1 1 0 1 0 1 0 1 0 1 0 0 0 0 1 1 0 0 0 1 1 0 0 0 1 1 0 0 0 0 1 0 0 1 0 1\n",
      " 0 1 0 1 0 0 1 0 1 1 0 1 0 1 1 1 0 1 1 1 0 0 0 0 0 0 1 0 0 0 0]\n",
      "Actual:  [0 1 0 1 0 0 0 0 1 0 1 0 0 0 1 0 0 1 0 0 1 0 1 1 0 1 1 0 1 0 0 0 0 0 0 0 0\n",
      " 0 1 0 0 0 1 1 1 1 0 1 1 0 1 0 1 0 0 1 0 0 0 0 1 0 1 0 1 1 0 1 0 0 0 0 1 0\n",
      " 0 1 0 0 0 1 1 1 1 0 0 1 1 1 0 1 0 0 1 0 0 0 0 1 1 1 0 0 0 1 1 1 1 1 0 0 0\n",
      " 1 1 1 0 1 1 1 0 0 0 1 1 0 0 0 1 0 0 0 1 1 1 0 1 1 1 1 0 0 0 0 1 0 0 0 0 0\n",
      " 0 0 0 1 0 0 0 0 0 1 0 0 0 1 1 1 0 1 1 1 0 0 0 0 0 0 1 0 0 0 0]\n"
     ]
    }
   ],
   "source": [
    "model = tree.DecisionTreeClassifier()\n",
    "model.fit(x_train,y_train)\n",
    "predictions = model.predict(x_test)\n",
    "accuracy = accuracy_score(y_test,predictions)\n",
    "print('Accuracy: ', accuracy * 100)\n",
    "print('Predictions: ',predictions)\n",
    "print('Actual: ', y_test.to_numpy())\n"
   ]
  }
 ],
 "metadata": {
  "kernelspec": {
   "display_name": "Python 3",
   "language": "python",
   "name": "python3"
  },
  "language_info": {
   "codemirror_mode": {
    "name": "ipython",
    "version": 3
   },
   "file_extension": ".py",
   "mimetype": "text/x-python",
   "name": "python",
   "nbconvert_exporter": "python",
   "pygments_lexer": "ipython3",
   "version": "3.12.2"
  }
 },
 "nbformat": 4,
 "nbformat_minor": 2
}
