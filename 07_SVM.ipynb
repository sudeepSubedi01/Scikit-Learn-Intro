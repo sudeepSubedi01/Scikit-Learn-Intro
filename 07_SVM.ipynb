{
 "cells": [
  {
   "cell_type": "code",
   "execution_count": 80,
   "metadata": {},
   "outputs": [],
   "source": [
    "from sklearn import datasets\n",
    "from sklearn.model_selection import train_test_split\n",
    "from sklearn import svm\n",
    "from sklearn.metrics import accuracy_score"
   ]
  },
  {
   "cell_type": "code",
   "execution_count": 81,
   "metadata": {},
   "outputs": [],
   "source": [
    "iris = datasets.load_iris()\n",
    "x = iris.data\n",
    "y = iris.target\n",
    "# print(y)"
   ]
  },
  {
   "cell_type": "code",
   "execution_count": 82,
   "metadata": {},
   "outputs": [
    {
     "name": "stdout",
     "output_type": "stream",
     "text": [
      "SVC()\n",
      "actual:  [0 0 1 1 2 1 2 2 1 0 1 1 0 0 1 1 2 2 2 1 0 2 2 1 0 2 0 0 2 0]\n",
      "prediction:  [0 0 1 1 2 1 2 2 1 0 1 1 0 0 1 1 2 2 2 1 0 2 2 1 0 2 0 0 2 0]\n",
      "accuracy: 100.0  %\n"
     ]
    }
   ],
   "source": [
    "classes = ['Iris Setosa','Iris Versicolour','Iris Virginica']\n",
    "x_train,x_test,y_train,y_test = train_test_split(x,y,test_size=0.2)\n",
    "model = svm.SVC()\n",
    "model.fit(x_train,y_train)\n",
    "print(model)\n",
    "predictions = model.predict(x_test)\n",
    "accuracy = accuracy_score(y_test,predictions)\n",
    "print('actual: ', y_test)\n",
    "print('prediction: ', predictions)\n",
    "print('accuracy:', accuracy* 100, ' %')\n",
    "# for i in range(len(predictions)):\n",
    "#   print(classes[predictions[i]])\n"
   ]
  }
 ],
 "metadata": {
  "kernelspec": {
   "display_name": "Python 3",
   "language": "python",
   "name": "python3"
  },
  "language_info": {
   "codemirror_mode": {
    "name": "ipython",
    "version": 3
   },
   "file_extension": ".py",
   "mimetype": "text/x-python",
   "name": "python",
   "nbconvert_exporter": "python",
   "pygments_lexer": "ipython3",
   "version": "3.12.2"
  }
 },
 "nbformat": 4,
 "nbformat_minor": 2
}
