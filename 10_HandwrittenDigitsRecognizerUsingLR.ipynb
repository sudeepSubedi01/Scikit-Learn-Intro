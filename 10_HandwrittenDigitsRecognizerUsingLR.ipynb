{
 "cells": [
  {
   "cell_type": "code",
   "execution_count": 12,
   "metadata": {},
   "outputs": [],
   "source": [
    "import pandas as pd\n",
    "from sklearn.datasets import fetch_openml\n",
    "import numpy as np\n",
    "import matplotlib\n",
    "import matplotlib.pyplot as plt\n",
    "from sklearn.linear_model import LogisticRegression\n",
    "from sklearn.metrics import accuracy_score"
   ]
  },
  {
   "cell_type": "code",
   "execution_count": 13,
   "metadata": {},
   "outputs": [],
   "source": [
    "mnist = fetch_openml('mnist_784')"
   ]
  },
  {
   "cell_type": "code",
   "execution_count": 14,
   "metadata": {},
   "outputs": [
    {
     "name": "stdout",
     "output_type": "stream",
     "text": [
      "<class 'pandas.core.series.Series'>\n",
      "0    5\n",
      "1    0\n",
      "2    4\n",
      "3    1\n",
      "4    9\n",
      "Name: class, dtype: int32\n"
     ]
    }
   ],
   "source": [
    "X = pd.DataFrame(mnist['data'])\n",
    "y = pd.Series(mnist['target']).astype(int)\n",
    "# x_train, x_test, y_train, y_test = train_test_split(X,y, test_size=0.5)\n",
    "x_train,x_test,y_train,y_test = X[:60000],X[60000:],y[:60000],y[60000:]\n",
    "# shuffle_index = np.random.permutation(60000)\n",
    "# x_train= x_train[shuffle_index]\n",
    "# y_train = y_train[shuffle_index]\n",
    "# x_train = pd.DataFrame(x_train)\n",
    "# x_test = pd.DataFrame(x_test)\n",
    "# y_train = pd.DataFrame(y_train)\n",
    "# y_test = pd.DataFrame(y_test)\n",
    "# print(type(X))\n",
    "# print(type(y))\n",
    "# print(type(x_train))\n",
    "print(type(y_train))\n",
    "# print(x_train.head())\n",
    "print(y_train.head())\n",
    "# print(X.shape)\n",
    "# print(x_train.shape)\n",
    "# print(x_train.loc[[3600],:])\n",
    "# print(x_train['pixel3'])\n",
    "# print(x_train.shape)\n",
    "# print(y_train.head(60) == '5')\n"
   ]
  },
  {
   "cell_type": "code",
   "execution_count": 15,
   "metadata": {},
   "outputs": [
    {
     "name": "stdout",
     "output_type": "stream",
     "text": [
      "60000    7\n",
      "60001    2\n",
      "60002    1\n",
      "60003    0\n",
      "60004    4\n",
      "Name: class, dtype: int32\n",
      "The number is: 2\n"
     ]
    },
    {
     "data": {
      "text/plain": [
       "(-0.5, 27.5, 27.5, -0.5)"
      ]
     },
     "execution_count": 15,
     "metadata": {},
     "output_type": "execute_result"
    },
    {
     "data": {
      "image/png": "[encoded data removed]",
      "text/plain": [
       "<Figure size 640x480 with 1 Axes>"
      ]
     },
     "metadata": {},
     "output_type": "display_data"
    }
   ],
   "source": [
    "print(y_test.head())\n",
    "some_digit_index = 1\n",
    "some_digit = x_test.iloc[[some_digit_index],:].to_numpy()\n",
    "# print(y_train.loc[0,'class'])\n",
    "print('The number is:',y_test.iloc[some_digit_index])\n",
    "some_digit_image = some_digit.reshape((28,28))\n",
    "plt.imshow(some_digit_image,cmap=matplotlib.cm.binary, interpolation = 'nearest')\n",
    "plt.axis('off')"
   ]
  },
  {
   "cell_type": "code",
   "execution_count": 16,
   "metadata": {},
   "outputs": [
    {
     "name": "stdout",
     "output_type": "stream",
     "text": [
      "[ True]\n",
      "Accuracy:  100.0\n"
     ]
    },
    {
     "name": "stderr",
     "output_type": "stream",
     "text": [
      "C:\\Users\\Acer1\\AppData\\Roaming\\Python\\Python312\\site-packages\\sklearn\\base.py:493: UserWarning: X does not have valid feature names, but LogisticRegression was fitted with feature names\n",
      "  warnings.warn(\n"
     ]
    }
   ],
   "source": [
    "digit_to_detect = 2\n",
    "y_train = y_train.astype(np.int8)\n",
    "y_test = y_test.astype(np.int8)\n",
    "y_train_1 = (y_train ==digit_to_detect)\n",
    "y_test_1 = (y_test == digit_to_detect)\n",
    "# print(y_test.head(15) == 5)\n",
    "model = LogisticRegression(tol = 0.1,max_iter=1000)\n",
    "model.fit(x_train,y_train_1)\n",
    "prediction = model.predict(some_digit)\n",
    "print(prediction)\n",
    "true_label = (y_test_1.iloc[[some_digit_index]]).to_numpy()\n",
    "# true_label = (y_test_1.iloc[[some_digit_index]]).values()\n",
    "# print(type(true_label))\n",
    "print('Accuracy: ', accuracy_score(true_label,prediction) * 100)\n",
    "\n"
   ]
  },
  {
   "cell_type": "code",
   "execution_count": null,
   "metadata": {},
   "outputs": [],
   "source": []
  }
 ],
 "metadata": {
  "kernelspec": {
   "display_name": "Python 3",
   "language": "python",
   "name": "python3"
  },
  "language_info": {
   "codemirror_mode": {
    "name": "ipython",
    "version": 3
   },
   "file_extension": ".py",
   "mimetype": "text/x-python",
   "name": "python",
   "nbconvert_exporter": "python",
   "pygments_lexer": "ipython3",
   "version": "3.12.2"
  }
 },
 "nbformat": 4,
 "nbformat_minor": 2
}
